{
 "cells": [
  {
   "cell_type": "markdown",
   "metadata": {},
   "source": [
    "# Few Shot Learning\n",
    "\n",
    "Few-shot learning is inspired by the human ability to learn new concepts with minimal examples. Humans, like babies, can quickly grasp key features of an object, such as an apple's shape, color, and texture, from a single observation. This allows them to recognize similar objects, even under different conditions, without needing extensive examples.\n",
    "\n",
    "![Few Shot Learning_1](../FewShotLearning/Baby_Apple_example.PNG)\n",
    "\n",
    "While humans easily learn from a few examples, most machine learning models, especially deep learning, require large datasets. To address this, researchers are developing few-shot learning, which mimics human cognitive abilities by enabling models to generalize from small samples. This approach, related to transfer learning, includes methods like zero-shot, one-shot learning, and Bayesian program learning."
   ]
  },
  {
   "cell_type": "markdown",
   "metadata": {},
   "source": [
    "## N-way-K-shot classification\n",
    "\n",
    "**N-way:** Refers to the number of distinct classes the model must classify.\n",
    "\n",
    "**K-shot:** Represents the number of labeled examples provided for each class during training.\n",
    "\n",
    "**Training set:** every class in the training set has many samples, and it is big enough for training a deep neural network.\n",
    "\n",
    "**Support Set:** For each episode, a support set is provided, containing $ 𝐾 $ labeled examples for each of the $𝑁$ classes. The model uses these examples to learn a representation of each class.\n",
    "For example, in a 3-way-2-shot task, the support set would consist of 3 classes, with 2 examples for each class. When $𝐾=1$, it's termed one-shot learning; when $𝐾=0$, it's zero-shot learning, which often requires specialized approaches since no examples are given.\n",
    "\n",
    "**Query Set:** After learning from the support set, the model is tested on a query set, which contains new, unlabeled examples from the same $𝑁$ classes. The model must predict the correct class for each example in the query set."
   ]
  },
  {
   "cell_type": "markdown",
   "metadata": {},
   "source": [
    "## Omniglot Dataset\n",
    "\n",
    "The [Omniglot data set](https://www.kaggle.com/code/iamleonie/few-shot-learning-tutorial-1-n-way-k-shot) was proposed by Lake et al. and consists of:\n",
    "\n",
    "1623 characters\n",
    "from 50 different alphabets\n",
    "each character has 20 instances\n",
    "each image is a grayscale image\n",
    "each image is 105 x 105 pixels\n",
    "Note: Recent advances in FSL have achieved high accuracies for the Omniglot dataset (e.g. MAML XX %). Therefore, new datasets, such as the meta-dataset have been introduced. However, the Omniglot dataset is sufficient for the purpose of this tutorial.\n",
    "\n",
    "In contrast to the MNIST dataset, which is commonly used for image classification in the traditional Supervised Learning setting, the Omniglot dataset has many different classes (MNIST only has 10 classes) but only 20 instances of each character (MNIST contains many instances for each character)."
   ]
  },
  {
   "cell_type": "markdown",
   "metadata": {},
   "source": [
    "## FSL by Shusen Wang\n",
    "\n",
    "### Support set \n",
    "\n",
    "![QuerySet_SupportSet](QuerySet_SupportSet.png)\n",
    "\n",
    "### Training Set\n",
    "\n",
    "![TrainingSet_Wang_1](../FewShotLearning/TrainingSet_Wang.PNG)\n",
    "\n",
    "### Prediction per Ways and Shots\n",
    "\n",
    "![PredictionAccuracy_PerWays_Wang_1](../FewShotLearning/PredictionAccuracy_PerWays_Wang.PNG)\n",
    "\n",
    "![PredictionAccuracy_PerShots_Wang_1](../FewShotLearning/PredictionAccuracy_PerShots_Wang.PNG)\n",
    "\n",
    "### Similarity Query and Support Set\n",
    "\n",
    "Each query and support set sample is compared in feature space using a similarity function.\n",
    "\n",
    "![Similarity_Basic_Components_1](../FewShotLearning/Similarity_Basic_Components.PNG)\n",
    "\n",
    "![Similarity_Basic_Components_Results_1](../FewShotLearning/Similarity_Basic_Components_Results.PNG)\n"
   ]
  },
  {
   "cell_type": "markdown",
   "metadata": {},
   "source": [
    "## Miniproject: Complete few shot learning"
   ]
  },
  {
   "cell_type": "markdown",
   "metadata": {},
   "source": [
    "##  Zero-Shot Learning\n",
    "\n",
    "Zero-shot learning involves a system handling ***test samples*** from classes _not present_ in the _training data_. Unlike traditional learning, zero-shot learning relies on \"semantic features\" _to bridge knowledge_ **from known classes** ***to novel ones***, enabling transfer learning.\n",
    "\n",
    "Zero-shot learning involves mapping input features $ X $ to a semantic feature space $ F $ rather than directly to labels $ Y $. The knowledge base $ K = \\{(f_1, y_1), \\dots, (f_k, y_k)\\} $ links these semantic features to labels, allowing the model to identify novel classes by matching new examples to the most similar known classes. Semantic features, explicit or implicit, enable this mapping, and methods like word embeddings are crucial for capturing similarities between classes.\n",
    "\n",
    "\n",
    "### Algorithms for Zero-Shot Learning\n",
    "\n",
    "**Classification and Regression**\n",
    "\n",
    "Zero-shot learning algorithms are categorized into two main approaches: classification/regression and energy function ranking. In classification/regression, the process involves two phases: $ X \\rightarrow F $ and $ F \\rightarrow Y $, where $ F $ represents the semantic feature space bridging different classes. The first phase translates training labels into semantic features $ F $ using a knowledge base, and the second phase involves fitting classifiers or regression models based on these features. During testing, the input data $ x $ is mapped to semantic features using the learned models, and the most similar class from the knowledge base is identified.\n",
    "\n",
    "An example is the “bridging classifier” presented by Shen et al. (2006b), which classifies queries into new categories even with few or no training data. This algorithm uses a two-phase approach where Phase I trains intermediate classifiers on Web data, mapping text documents to ***intermediate categories***. Phase II maps these intermediate categories to target domain labels using the Bayes rule:\n",
    "\n",
    "![bridging classifier](../FewShotLearning/bridgingclassifier.PNG)\n",
    "\n",
    "$$\n",
    "p(C_T^i \\mid q) \\propto \\sum_{C_I^j} p(C_T^i \\mid C_I^j) p(q \\mid C_I^j) p(C_I^j),\n",
    "$$\n",
    "\n",
    "where $ p(C_T^i \\mid q) $ is the probability of query $ q $ belonging to class $ C_T^i $. The class with the maximum likelihood is chosen using:\n",
    "\n",
    "$$\n",
    "c^* = \\text{argmax}_{C_T^i} p(C_T^i \\mid q).\n",
    "$$\n",
    "\n",
    "This method has been successfully applied in search engines and advertisement systems. The figure below illustrates the mapping process from queries to target classes through intermediate classes.\n",
    "\n",
    "\n",
    "\n"
   ]
  },
  {
   "cell_type": "markdown",
   "metadata": {},
   "source": [
    "## A Simple Approach To Zero-Shot Learning\n",
    "\n",
    "\n",
    "- Describe classes in terms of attributes\n",
    "  - The list of attributes is called the signature\n",
    "- Given a new class with no training examples, classify new examples\n",
    "\n",
    "![Simple Approach To Zero-Shot Learning](../FewShotLearning/Zero_Shot_with_Attribute.PNG)\n",
    "\n",
    "## Zero-Shot Learning In Two Parts\n",
    "- Attribute Learning (Training)\n",
    "- “Attribute Based Prediction” (Inference)\n",
    "\n",
    "## A Very Simple Zero-Shot Learning Model\n",
    "\n",
    "see :\n",
    "Philip H. S. Torr, et. al, \"An embarrassingly simple approach to zero-shot learning\"\n",
    "\n",
    "- Train a linear model (e.g. logistic regression) for each of the attributes\n",
    "- Create a second model to predict classes based on the attributes\n",
    "- This is known as Directed Attribute Prediction (DAP)\n",
    "\n",
    "**The General Form Of A Linear Layer**\n",
    "\n",
    "![The General Form Of A Linear Layer1](../FewShotLearning/GeneralForm_MSE.PNG)\n",
    "\n",
    "**New type of ZSL:**\n",
    "\n",
    "![The ESZSL Linear Layer1](../FewShotLearning/ESZSL_Form_MSE.PNG)\n",
    "\n",
    "**Inference** or ***prediction*** is given by:\n",
    "\n",
    "$$\n",
    "\\arg \\max_i x^{T}VS^{'}_i\n",
    "$$\n",
    "\n",
    "## Miniproject: Practice with [ESZSL](https://github.com/sbharadwajj/embarrassingly-simple-zero-shot-learning/blob/master/main.py)"
   ]
  }
 ],
 "metadata": {
  "language_info": {
   "name": "python"
  }
 },
 "nbformat": 4,
 "nbformat_minor": 2
}
