{
 "cells": [
  {
   "cell_type": "markdown",
   "metadata": {},
   "source": [
    " # Trainable Combiners\n",
    "\n",
    " we start with two class for understanding of error mean and covariance for them. we see all as two feature that genearte for each sample error so we have n samples of two dimensional errors \n",
    "\n",
    "**TABLE 5.1 Hypothetical Output for $ \\omega_1 $ from Two Classifiers for a Data Set $ Z = \\{z_1, \\dots, z_{10}\\} $.**\n",
    "\n",
    "| Data Point | $ z_1 $ | $ z_2 $ | $ z_3 $ | $ z_4 $ | $ z_5 $ | $ z_6 $ | $ z_7 $ | $ z_8 $ | $ z_9 $ | $ z_{10} $ |\n",
    "|------------|-----------|-----------|-----------|-----------|-----------|-----------|-----------|-----------|-----------|-------------|\n",
    "| $ d_{1,1}(z_k) $ | 0.71 | 0.41 | 0.76 | 0.27 | 0.15 | 0.91 | 0.09 | 0.15 | 0.15 | 0.64 |\n",
    "| $ d_{2,1}(z_k) $ | 0.62 | 0.90 | 0.98 | 0.68 | 0.56 | 0.95 | 0.44 | 0.22 | 0.79 | 0.14 |\n",
    "| Target ($ \\omega_1 $) | 1 | 1 | 1 | 0 | 0 | 0 | 0 | 0 | 0 | 0 |\n",
    "\n",
    "The approximation error of $ D_1 $ has the following 10 values:\n",
    "\n",
    "$$\n",
    "(1 - 0.71), \\, (1 - 0.76), \\, (1 - 0.15), \\, 0.09, \\, 0.15, \\, 0.62, \\, 0.98, \\, 0.56, \\, 0.44, \\, 0.79\n",
    "$$\n",
    "\n",
    "The mean of the error of $D_1$ is $0.225$, and the variance of the error of $D_1$ is calculated as follows:\n",
    "\n",
    "$$\n",
    "s_1^2 = \\frac{1}{10 - 1} \\left( \\left(1 - 0.71 + 0.225\\right)^2 + \\left(1 - 0.76 + 0.225\\right)^2 + \\dots + \\left(0.79 + 0.225\\right)^2 \\right) \\approx 0.32\n",
    "$$\n",
    "\n",
    "The covariance matrix of the approximation errors of the two classifiers is:\n",
    "\n",
    "$$\n",
    "\\Sigma = \\begin{pmatrix} \n",
    "0.32 & 0.22 \\\\\n",
    "0.22 & 0.30 \n",
    "\\end{pmatrix}\n",
    "$$\n",
    "\n"
   ]
  }
 ],
 "metadata": {
  "language_info": {
   "name": "python"
  }
 },
 "nbformat": 4,
 "nbformat_minor": 2
}
