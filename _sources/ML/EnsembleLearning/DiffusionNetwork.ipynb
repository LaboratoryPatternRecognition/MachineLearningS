{
 "cells": [
  {
   "cell_type": "markdown",
   "metadata": {},
   "source": [
    "# Diffusion Network of Learner\n",
    "\n",
    "The scenario describes a model of diffusion on social networks where agents decide whether to adopt a new behavior or not, influenced by their neighbors' choices and personal cost-benefit parameters. The analysis focuses on the tipping threshold, where if a sufficiently large initial group adopts the behavior, it spreads throughout the network; otherwise, it dies out. The study characterizes this tipping point and examines how it depends on the network's structure, with applications in areas like marketing and epidemiology.\n",
    "\n",
    "In the context of decentralized processing, agents cooperate to estimate a global parameter vector using only local information. By sharing information and cooperating with neighbors, agents in a network can collectively converge towards the global optimum despite the distributed nature of their data. This process highlights the benefits of local interactions in achieving a global objective through decentralized information processing.\n",
    "\n",
    "![DF_Net1](../EnsembleLearning/EnsembleLearningImage/DiffusionNetwork_Sayed.PNG)\n"
   ]
  },
  {
   "cell_type": "markdown",
   "metadata": {},
   "source": [
    "## Miniproject : Complete above"
   ]
  }
 ],
 "metadata": {
  "language_info": {
   "name": "python"
  }
 },
 "nbformat": 4,
 "nbformat_minor": 2
}
