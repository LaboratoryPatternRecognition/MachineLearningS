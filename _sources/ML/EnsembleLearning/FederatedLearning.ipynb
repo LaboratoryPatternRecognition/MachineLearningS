{
 "cells": [
  {
   "cell_type": "markdown",
   "metadata": {},
   "source": [
    "# Federated Learning\n",
    "\n",
    "Federated Learning (FL) enables decentralized model training across multiple clients without sharing raw data, enhancing privacy. Each client trains a local model and shares updates (not data) with a central server, which aggregates these updates to improve a global model. This approach is scalable, communication-efficient, and robust, making it ideal for sensitive data applications like healthcare and finance. Key challenges include data heterogeneity, communication overhead, and security risks, but FL remains a powerful tool for collaborative learning across distributed data sources.\n"
   ]
  },
  {
   "cell_type": "markdown",
   "metadata": {},
   "source": [
    "## Miniproject : Complete above"
   ]
  }
 ],
 "metadata": {
  "language_info": {
   "name": "python"
  }
 },
 "nbformat": 4,
 "nbformat_minor": 2
}
