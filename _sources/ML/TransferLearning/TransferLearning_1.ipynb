{
 "cells": [
  {
   "cell_type": "markdown",
   "metadata": {},
   "source": [
    "# Transfer Learning\n",
    "\n",
    "**Transfer Learning: A Simplified Overview**\n",
    "\n",
    "In transfer learning, we define \"domain,\" \"task,\" and \"transfer learning\" using the framework from Pan and Yang (2010). A domain $ D $ has two parts: a feature space $ X $ and a probability distribution $ P_X $. Different domains can have different feature spaces or distributions. A task $ T $ within a domain has a label space $ Y $ and a predictive function $ f(\\cdot) $. For classification, $ Y $ might be binary or categorical, while for regression, $ Y $ consists of continuous values.\n",
    "\n",
    "Consider a common scenario with a source domain $ D_s $ and a target domain $ D_t $. The source domain consists of labeled data pairs $ \\{(x_{si}, y_{si})\\}_{i=1}^{n_s} $, where $ x_{si} \\in X_s $ and $ y_{si} \\in Y_s $. The target domain has labeled data pairs $ \\{(x_{ti}, y_{ti})\\}_{i=1}^{n_t} $, where $ x_{ti} \\in X_t $ and $ y_{ti} \\in Y_t $.\n",
    "\n",
    "![IlustratedTL_1](../TransferLearning/TransferLearningImages/IllustrationTL_1.PNG)\n",
    "\n",
    "**Transfer Learning: Key Concepts and Categories**\n",
    "\n",
    "A domain $ D $ is defined as $ D = \\{X, P_X\\} $, where $ X $ is the feature space and $ P_X $ is the probability distribution. When $ D_s \\neq D_t $, it indicates either $ X_s \\neq X_t $ or $ P_{X_s} \\neq P_{X_t} $. A task $ T $ is given by $ T = \\{Y, P_{Y|X}\\} $, where $ Y $ is the label space and $ P_{Y|X} $ is the conditional probability. If $ T_s \\neq T_t $, then $ Y_s \\neq Y_t $ or $ P_{Y_s|X_s} \\neq P_{Y_t|X_t} $. When the source and target domains and tasks are identical ($ D_s = D_t $ and $ T_s = T_t $), the problem simplifies to a traditional machine learning problem.\n",
    "\n",
    "**Categories of Transfer Learning:**\n",
    "\n",
    "1. **Homogeneous Transfer Learning:**\n",
    "   - Here, $ X_s = X_t $ and $ Y_s = Y_t $, but $ P_{X_s} \\neq P_{X_t} $ or $ P_{Y_s|X_s} \\neq P_{Y_t|X_t} $. The goal is to improve the target function $ f_t(\\cdot) $ using knowledge from $ D_s $ and $ T_s $.\n",
    "\n",
    "![Homogeneous Transfer Learning](../TransferLearning/TransferLearningImages/Homogeneous1.PNG)\n",
    "\n",
    "2. **Heterogeneous Transfer Learning:**\n",
    "   - In this case, $ X_s \\neq X_t $ or $ Y_s \\neq Y_t $. The aim is to enhance $ f_t(\\cdot) $ using the source domain’s knowledge despite differences in feature spaces or label spaces.\n",
    "\n",
    "![Heterogeneous Transfer Learning](../TransferLearning/TransferLearningImages/heterogeneoustransferlearning.PNG)\n",
    "\n",
    "**Types of Transfer Learning Based on Data Availability:**\n",
    "\n",
    "1. **Supervised Transfer Learning:**\n",
    "   - Only a few labeled instances are available in the target domain, with no use of unlabeled data.\n",
    "\n",
    "2. **Semi-Supervised Transfer Learning:**\n",
    "   - Both a small amount of labeled data and a large amount of unlabeled data are available in the target domain.\n",
    "\n",
    "3. **Unsupervised Transfer Learning:**\n",
    "   - Only unlabeled data is available in the target domain.\n",
    "\n",
    "**Research Issues in Transfer Learning:**\n",
    "\n",
    "1. **When to Transfer:**\n",
    "   - Determines if and when transferring knowledge is beneficial or harmful. Unrelated domains can lead to negative transfer, which adversely affects performance.\n",
    "\n",
    "2. **What to Transfer:**\n",
    "   - Identifies the specific knowledge that can be transferred. This knowledge can be domain-specific or shared across domains.\n",
    "\n",
    "3. **How to Transfer:**\n",
    "   - Refers to the method of transferring knowledge:\n",
    "     - **Instance-Based:** Transfers knowledge via weights of source instances.\n",
    "     - **Feature-Based:** Transfers knowledge through the feature subspace shared between domains.\n",
    "     - **Model-Based:** Transfers knowledge embedded in parts of the source models.\n",
    "     - **Relation-Based:** Transfers knowledge through rules specifying relationships in the source domain."
   ]
  }
 ],
 "metadata": {
  "language_info": {
   "name": "python"
  }
 },
 "nbformat": 4,
 "nbformat_minor": 2
}
